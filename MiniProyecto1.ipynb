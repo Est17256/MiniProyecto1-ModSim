{
 "cells": [
  {
   "cell_type": "markdown",
   "metadata": {},
   "source": [
    "# Universidad del Valle de Guatemala\n",
    "### Guatemala 2 de Septiembre de 2020\n",
    "### Modelacion y Simulacion\n",
    "#### Luis Esturban 17256\n",
    "#                                                 MiniProyecto 1"
   ]
  },
  {
   "cell_type": "code",
   "execution_count": 4,
   "metadata": {},
   "outputs": [],
   "source": [
    "#Librerias necesarias para trabajar\n",
    "import numpy as np\n",
    "import matplotlib.pyplot as plt \n",
    "from random import random\n",
    "import math"
   ]
  },
  {
   "cell_type": "markdown",
   "metadata": {},
   "source": [
    "# Ejercicio 1"
   ]
  },
  {
   "cell_type": "code",
   "execution_count": 19,
   "metadata": {},
   "outputs": [
    {
     "data": {
      "image/png": "[encoded data removed]",
      "text/plain": [
       "<Figure size 432x288 with 1 Axes>"
      ]
     },
     "metadata": {
      "needs_background": "light"
     },
     "output_type": "display_data"
    }
   ],
   "source": [
    "#Se crea el arbol en el cual dependiendo del random generado devolvera si se debe de usar p1, p2 o p3\n",
    "def Arbol_prob(prob):\n",
    "    rand = random()\n",
    "    if rand < prob[0]:\n",
    "        return 1\n",
    "    elif rand >= prob[0] and  rand < prob[0] + prob[1] :\n",
    "        return 2\n",
    "    else: \n",
    "        return 3\n",
    "#Numero de iteracciones que pide el ejercicio\n",
    "iteraciones = 100000\n",
    "#funciones dadas en la hoja de trabajo\n",
    "caos = {1: lambda p: (p[0]/2, p[1]/2),2: lambda p: ((p[0]/2) + 0.5, p[1]/2),3: lambda p: ((p[0]/2) + 0.25, (p[1]/2) + 0.5)}\n",
    "#Se crean los puntos a graficar\n",
    "x = np.random.rand(iteraciones,1)\n",
    "y = np.random.rand(iteraciones,1)\n",
    "#Probabilidadas con las que a mi parecer se mira mas denso el triangolo, fueron obtenidas a prueba y error\n",
    "prob = [0.20,0.20,0.20]\n",
    "for i in range(0,100):\n",
    "    for i in range(0,iteraciones):\n",
    "        x[i], y[i] = caos[Arbol_prob(prob)]((x[i], y[i]))\n",
    "plt.scatter(x=x,y=y,c=\"#ff7f0e\")\n",
    "plt.show()"
   ]
  },
  {
   "cell_type": "markdown",
   "metadata": {},
   "source": [
    "# Ejercicio 3"
   ]
  },
  {
   "cell_type": "code",
   "execution_count": 122,
   "metadata": {},
   "outputs": [
    {
     "name": "stdout",
     "output_type": "stream",
     "text": [
      "#######################Iteracion: 100 #######################\n",
      "Generador 1\n",
      "0.0 a 0.1 :  °°°°°°°°°  ( 9 ) 9.0 %\n",
      "0.1 a 0.2 :  °°°°°°°°°  ( 9 ) 9.0 %\n",
      "0.2 a 0.3 :  °°°°°°°°°°°  ( 11 ) 11.0 %\n",
      "0.3 a 0.4 :  °°°°°°°°°°°  ( 11 ) 11.0 %\n",
      "0.4 a 0.5 :  °°°°°°°°°°°  ( 11 ) 11.0 %\n",
      "0.5 a 0.6 :  °°°°°°°  ( 7 ) 7.0 %\n",
      "0.6 a 0.7 :  °°°°°°°  ( 7 ) 7.0 %\n",
      "0.7 a 0.8 :  °°°°°°°°°°  ( 10 ) 10.0 %\n",
      "0.8 a 0.9 :  °°°°°°°°°°°°°  ( 13 ) 13.0 %\n",
      "0.9 a 1.0 :  °°°°°°°°°°°°  ( 12 ) 12.0 %\n",
      "Generador 2\n",
      "0.0 a 0.1 :  °°°°°°°°°°°°°°°  ( 15 ) 15.0 %\n",
      "0.1 a 0.2 :  °°°  ( 3 ) 3.0 %\n",
      "0.2 a 0.3 :  °°°°°°°°°°  ( 10 ) 10.0 %\n",
      "0.3 a 0.4 :  °°°°°°°°°  ( 9 ) 9.0 %\n",
      "0.4 a 0.5 :  °°°°°°°°°  ( 9 ) 9.0 %\n",
      "0.5 a 0.6 :  °°°°°°°°°°°  ( 11 ) 11.0 %\n",
      "0.6 a 0.7 :  °°°°°°°°°°  ( 10 ) 10.0 %\n",
      "0.7 a 0.8 :  °°°°°°°°°°°°  ( 12 ) 12.0 %\n",
      "0.8 a 0.9 :  °°°°°°°°°  ( 9 ) 9.0 %\n",
      "0.9 a 1.0 :  °°°°°°°°°°°°  ( 12 ) 12.0 %\n",
      "Generador 3\n",
      "0.0 a 0.1 :  °°°°°°°°  ( 8 ) 8.0 %\n",
      "0.1 a 0.2 :  °°°°°°°°°°°°  ( 12 ) 12.0 %\n",
      "0.2 a 0.3 :  °°°°°°°°  ( 8 ) 8.0 %\n",
      "0.3 a 0.4 :  °°°°°°°°°°  ( 10 ) 10.0 %\n",
      "0.4 a 0.5 :  °°°°°°°°°°°°°°  ( 14 ) 14.0 %\n",
      "0.5 a 0.6 :  °°°°°°°°°°°°°  ( 13 ) 13.0 %\n",
      "0.6 a 0.7 :  °°°°°°°°°°°  ( 11 ) 11.0 %\n",
      "0.7 a 0.8 :  °°°°°°°°°°  ( 10 ) 10.0 %\n",
      "0.8 a 0.9 :  °°°°°°°°°°°°  ( 12 ) 12.0 %\n",
      "0.9 a 1.0 :  °°  ( 2 ) 2.0 %\n",
      "#######################Iteracion: 5000 #######################\n",
      "Generador 1\n",
      "0.0 a 0.1 :  °°°°°°°°°°°  ( 510 ) 10.2 %\n",
      "0.1 a 0.2 :  °°°°°°°°°°°  ( 507 ) 10.14 %\n",
      "0.2 a 0.3 :  °°°°°°°°°°  ( 474 ) 9.48 %\n",
      "0.3 a 0.4 :  °°°°°°°°°°  ( 467 ) 9.34 %\n",
      "0.4 a 0.5 :  °°°°°°°°°°°  ( 505 ) 10.1 %\n",
      "0.5 a 0.6 :  °°°°°°°°°°°  ( 513 ) 10.26 %\n",
      "0.6 a 0.7 :  °°°°°°°°°°  ( 496 ) 9.92 %\n",
      "0.7 a 0.8 :  °°°°°°°°°°  ( 490 ) 9.8 %\n",
      "0.8 a 0.9 :  °°°°°°°°°°°  ( 520 ) 10.4 %\n",
      "0.9 a 1.0 :  °°°°°°°°°°°  ( 518 ) 10.36 %\n",
      "Generador 2\n",
      "0.0 a 0.1 :  °°°°°°°°°°  ( 477 ) 9.54 %\n",
      "0.1 a 0.2 :  °°°°°°°°°°°  ( 517 ) 10.34 %\n",
      "0.2 a 0.3 :  °°°°°°°°°°°  ( 503 ) 10.06 %\n",
      "0.3 a 0.4 :  °°°°°°°°°°  ( 482 ) 9.64 %\n",
      "0.4 a 0.5 :  °°°°°°°°°°°  ( 525 ) 10.5 %\n",
      "0.5 a 0.6 :  °°°°°°°°°°°  ( 534 ) 10.68 %\n",
      "0.6 a 0.7 :  °°°°°°°°°°  ( 492 ) 9.84 %\n",
      "0.7 a 0.8 :  °°°°°°°°°°  ( 481 ) 9.62 %\n",
      "0.8 a 0.9 :  °°°°°°°°°°  ( 498 ) 9.96 %\n",
      "0.9 a 1.0 :  °°°°°°°°°°  ( 491 ) 9.82 %\n",
      "Generador 3\n",
      "0.0 a 0.1 :  °°°°°°°°°°  ( 493 ) 9.86 %\n",
      "0.1 a 0.2 :  °°°°°°°°°°  ( 497 ) 9.94 %\n",
      "0.2 a 0.3 :  °°°°°°°°°°°  ( 505 ) 10.1 %\n",
      "0.3 a 0.4 :  °°°°°°°°°°  ( 490 ) 9.8 %\n",
      "0.4 a 0.5 :  °°°°°°°°°°°  ( 536 ) 10.72 %\n",
      "0.5 a 0.6 :  °°°°°°°°°°°  ( 501 ) 10.02 %\n",
      "0.6 a 0.7 :  °°°°°°°°°°  ( 486 ) 9.72 %\n",
      "0.7 a 0.8 :  °°°°°°°°°°°  ( 507 ) 10.14 %\n",
      "0.8 a 0.9 :  °°°°°°°°°°°  ( 502 ) 10.04 %\n",
      "0.9 a 1.0 :  °°°°°°°°°°  ( 483 ) 9.66 %\n",
      "#######################Iteracion: 100000 #######################\n",
      "Generador 1\n",
      "0.0 a 0.1 :  °°°°°°°°°°  ( 9863 ) 9.86 %\n",
      "0.1 a 0.2 :  °°°°°°°°°°°  ( 10053 ) 10.05 %\n",
      "0.2 a 0.3 :  °°°°°°°°°°  ( 9595 ) 9.59 %\n",
      "0.3 a 0.4 :  °°°°°°°°°°  ( 9783 ) 9.78 %\n",
      "0.4 a 0.5 :  °°°°°°°°°°°  ( 10293 ) 10.29 %\n",
      "0.5 a 0.6 :  °°°°°°°°°°°  ( 10130 ) 10.13 %\n",
      "0.6 a 0.7 :  °°°°°°°°°°°  ( 10105 ) 10.11 %\n",
      "0.7 a 0.8 :  °°°°°°°°°°  ( 9803 ) 9.8 %\n",
      "0.8 a 0.9 :  °°°°°°°°°°°  ( 10268 ) 10.27 %\n",
      "0.9 a 1.0 :  °°°°°°°°°°°  ( 10107 ) 10.11 %\n",
      "Generador 2\n",
      "0.0 a 0.1 :  °°°°°°°°°°°  ( 10047 ) 10.05 %\n",
      "0.1 a 0.2 :  °°°°°°°°°°°  ( 10016 ) 10.02 %\n",
      "0.2 a 0.3 :  °°°°°°°°°°  ( 9863 ) 9.86 %\n",
      "0.3 a 0.4 :  °°°°°°°°°°  ( 9878 ) 9.88 %\n",
      "0.4 a 0.5 :  °°°°°°°°°°°  ( 10012 ) 10.01 %\n",
      "0.5 a 0.6 :  °°°°°°°°°°°  ( 10285 ) 10.29 %\n",
      "0.6 a 0.7 :  °°°°°°°°°°  ( 9931 ) 9.93 %\n",
      "0.7 a 0.8 :  °°°°°°°°°°  ( 9955 ) 9.96 %\n",
      "0.8 a 0.9 :  °°°°°°°°°°°  ( 10118 ) 10.12 %\n",
      "0.9 a 1.0 :  °°°°°°°°°°  ( 9895 ) 9.89 %\n",
      "Generador 3\n",
      "0.0 a 0.1 :  °°°°°°°°°°°  ( 10079 ) 10.08 %\n",
      "0.1 a 0.2 :  °°°°°°°°°°  ( 9947 ) 9.95 %\n",
      "0.2 a 0.3 :  °°°°°°°°°°°  ( 10035 ) 10.04 %\n",
      "0.3 a 0.4 :  °°°°°°°°°°  ( 9831 ) 9.83 %\n",
      "0.4 a 0.5 :  °°°°°°°°°°°  ( 10161 ) 10.16 %\n",
      "0.5 a 0.6 :  °°°°°°°°°°  ( 9879 ) 9.88 %\n",
      "0.6 a 0.7 :  °°°°°°°°°°°  ( 10012 ) 10.01 %\n",
      "0.7 a 0.8 :  °°°°°°°°°°°  ( 10129 ) 10.13 %\n",
      "0.8 a 0.9 :  °°°°°°°°°°°  ( 10044 ) 10.04 %\n",
      "0.9 a 1.0 :  °°°°°°°°°°  ( 9883 ) 9.88 %\n"
     ]
    }
   ],
   "source": [
    "#Funcion vista en clase para la generacion de pseudorandoms\n",
    "def pseudorandom(a,m):\n",
    "    def inner_pseudo(xo,n):\n",
    "        items = list(range(n))\n",
    "        items[0]=xo\n",
    "        for i in range(1,n):\n",
    "            items[i]=(a*items[i-1])%m\n",
    "        return [i/ float(m) for i in items]\n",
    "    return inner_pseudo\n",
    "#Se crea la funcion para graficar los histogramas de sus respectivas funciones generadores\n",
    "def graficador(generados,iteraciones):\n",
    "    tot = 100/iteraciones\n",
    "    for i in range(1,11):\n",
    "        cont = 0\n",
    "        for j in generados:\n",
    "            if j>=(i-1)*0.1 and j<(i*.10) :\n",
    "                cont = cont + 1\n",
    "        print (round((i-1)*0.1,2),\"a\", round((i)*0.1,2),\": \",(\"°\"*math.ceil((cont*tot))),\" (\", cont,\")\",round((cont/iteraciones)*100,2),\"%\")\n",
    "#Se asignan las funciones generadoras probistas por la hoja \n",
    "funcion1 = pseudorandom(m=2**35-1,a=5**5)\n",
    "funcion2 = pseudorandom(m=2**31-1,a=7**5)\n",
    "#Cantidad de iteraciones a realizar\n",
    "iteraciones=[100,5000,100000]\n",
    "#Funcion para mostrar los resultados\n",
    "for i in range(len(iteraciones)):\n",
    "    #Se guardan los valores finales generados\n",
    "    generados1 = funcion1(xo=1,n=iteraciones[i])\n",
    "    generados2 = funcion2(xo=1,n=iteraciones[i])\n",
    "    generados3 = np.random.rand(iteraciones[i]) \n",
    "    print(\"#######################Iteracion:\",iteraciones[i],\"#######################\")\n",
    "    print(\"Generador 1\")\n",
    "    graficador(generados1,iteraciones[i])\n",
    "    print(\"Generador 2\")\n",
    "    graficador(generados2,iteraciones[i])\n",
    "    print(\"Generador 3\")\n",
    "    graficador(generados3,iteraciones[i])"
   ]
  },
  {
   "cell_type": "markdown",
   "metadata": {},
   "source": [
    "# Ejercicio 4"
   ]
  },
  {
   "cell_type": "code",
   "execution_count": 23,
   "metadata": {},
   "outputs": [
    {
     "name": "stdout",
     "output_type": "stream",
     "text": [
      "100 1.8266170038451497\n",
      "10000 1.7949467632126799\n",
      "1000000 1.7723756248491984\n"
     ]
    }
   ],
   "source": [
    "#Calculo con numeros aleatorios\n",
    "integral = lambda f, n: sum([f(x) for x in np.random.rand(n)]) / n\n",
    "#Funcion dada por el documento\n",
    "funcion = lambda x: (2  * (math.e) ** (-( (1/x) -1)**2)) / (x ** 2)\n",
    "#Cantidad de iteraciones\n",
    "iteraciones=[100, 10000, 1000000]\n",
    "#Resultados\n",
    "for i in iteraciones  :\n",
    "    print(i,integral(funcion,i))"
   ]
  },
  {
   "cell_type": "markdown",
   "metadata": {},
   "source": [
    "# Ejercicio 5"
   ]
  },
  {
   "cell_type": "code",
   "execution_count": 27,
   "metadata": {},
   "outputs": [
    {
     "name": "stdout",
     "output_type": "stream",
     "text": [
      "100 0.5571261456086075\n",
      "10000 0.5025393672523888\n",
      "1000000 0.5000759708901651\n"
     ]
    }
   ],
   "source": [
    "#Calculo con numeros aleatorios\n",
    "integral = lambda f, n: sum([f(x, y) for x, y in np.random.rand(n, 2)]) / n\n",
    "#Funcion dada por el documento\n",
    "funcion = lambda x, y: (( (1/x) -1 ) * math.e**( - ( (1/x-1) + ( (1/x-1)*y ) )  )) / (x**2)\n",
    "#Cantidad de iteraciones\n",
    "iteraciones=[100, 10000, 1000000]\n",
    "#Resultados\n",
    "for i in iteraciones  :\n",
    "    print(i,integral(funcion,i))"
   ]
  }
 ],
 "metadata": {
  "kernelspec": {
   "display_name": "Python 3",
   "language": "python",
   "name": "python3"
  },
  "language_info": {
   "codemirror_mode": {
    "name": "ipython",
    "version": 3
   },
   "file_extension": ".py",
   "mimetype": "text/x-python",
   "name": "python",
   "nbconvert_exporter": "python",
   "pygments_lexer": "ipython3",
   "version": "3.8.2"
  }
 },
 "nbformat": 4,
 "nbformat_minor": 4
}
